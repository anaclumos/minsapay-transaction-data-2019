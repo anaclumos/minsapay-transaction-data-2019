{
  "nbformat": 4,
  "nbformat_minor": 0,
  "metadata": {
    "colab": {
      "name": "anonymize.ipynb",
      "version": "0.3.2",
      "provenance": [],
      "collapsed_sections": []
    },
    "kernelspec": {
      "name": "python3",
      "display_name": "Python 3"
    }
  },
  "cells": [
    {
      "cell_type": "code",
      "metadata": {
        "id": "dmQ70HjYCgJI",
        "colab_type": "code",
        "colab": {}
      },
      "source": [
        "import pandas as pd\n",
        "Dataframe = pd.read_csv('raw.csv')"
      ],
      "execution_count": 0,
      "outputs": []
    },
    {
      "cell_type": "code",
      "metadata": {
        "colab_type": "code",
        "id": "qDVHv3KcKP-I",
        "colab": {}
      },
      "source": [
        "def anonymize(df, targetColumn):\n",
        "  anon = {}\n",
        "  id = 0\n",
        "  for x in range(len(df)):\n",
        "    user = df.loc[x, targetColumn]\n",
        "    if user in anon:\n",
        "      df.loc[x, targetColumn] = anon[user]\n",
        "    else:\n",
        "      if id < 10:\n",
        "        unknown = \"#00\"+ str(id)\n",
        "      elif id < 100:\n",
        "        unknown = \"#0\" + str(id)\n",
        "      else:\n",
        "        unknown = \"#\"  + str(id)\n",
        "      anon[user] = targetColumn + str(unknown)\n",
        "      id += 1\n",
        "      df.loc[x, targetColumn] = anon[user]"
      ],
      "execution_count": 0,
      "outputs": []
    },
    {
      "cell_type": "code",
      "metadata": {
        "id": "CPmSVh35KUP0",
        "colab_type": "code",
        "colab": {}
      },
      "source": [
        "anonymize(Dataframe, 'user')\n",
        "anonymize(Dataframe, 'booth')\n",
        "Dataframe.to_csv(\"anonymized.csv\", mode='w')"
      ],
      "execution_count": 0,
      "outputs": []
    }
  ]
}